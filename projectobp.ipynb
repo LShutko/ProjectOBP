{
 "cells": [
  {
   "cell_type": "code",
   "execution_count": 1,
   "metadata": {
    "_cell_guid": "b1076dfc-b9ad-4769-8c92-a6c4dae69d19",
    "_uuid": "8f2839f25d086af736a60e9eeb907d3b93b6e0e5"
   },
   "outputs": [
    {
     "name": "stderr",
     "output_type": "stream",
     "text": [
      "Using TensorFlow backend.\n"
     ]
    }
   ],
   "source": [
    "import numpy as np\n",
    "import pickle\n",
    "import cv2\n",
    "from os import listdir\n",
    "from sklearn.preprocessing import LabelBinarizer\n",
    "from keras.models import Sequential\n",
    "from keras.layers.normalization import BatchNormalization\n",
    "from keras.layers.convolutional import Conv2D, AveragePooling2D, MaxPooling2D\n",
    "from keras.layers.core import Activation, Flatten, Dropout, Dense\n",
    "from keras import backend as K\n",
    "from keras.preprocessing.image import ImageDataGenerator\n",
    "from keras.optimizers import Adam\n",
    "from keras.preprocessing import image\n",
    "from keras.preprocessing.image import img_to_array\n",
    "from sklearn.preprocessing import MultiLabelBinarizer\n",
    "from sklearn.model_selection import train_test_split\n",
    "import matplotlib.pyplot as plt"
   ]
  },
  {
   "cell_type": "code",
   "execution_count": 2,
   "metadata": {
    "_uuid": "7c3354a78e21a1a62ad0c4689d0ab3238fb760d4"
   },
   "outputs": [],
   "source": [
    "EPOCHS = 200\n",
    "INIT_LR = 1e-3\n",
    "BS = 16\n",
    "default_image_size = tuple((32, 32))\n",
    "image_size = 0\n",
    "directory_root = '../input/plantvillage/'\n",
    "width=32\n",
    "height=32\n",
    "depth=3"
   ]
  },
  {
   "cell_type": "code",
   "execution_count": 3,
   "metadata": {},
   "outputs": [
    {
     "data": {
      "text/plain": [
       "['PlantVillage']"
      ]
     },
     "execution_count": 3,
     "metadata": {},
     "output_type": "execute_result"
    }
   ],
   "source": [
    "listdir(directory_root)"
   ]
  },
  {
   "cell_type": "markdown",
   "metadata": {
    "_uuid": "2bf7ac0a0b805946f844a48e55d5281403e53f57"
   },
   "source": [
    "Function to convert images to array"
   ]
  },
  {
   "cell_type": "code",
   "execution_count": 4,
   "metadata": {
    "_uuid": "c9c3e60b13ace6c8f3e54336e12f9970fde438a3"
   },
   "outputs": [],
   "source": [
    "def convert_image_to_array(image_dir):\n",
    "    try:\n",
    "        image = cv2.imread(image_dir)\n",
    "        if image is not None :\n",
    "            image = cv2.resize(image, default_image_size)   \n",
    "            return img_to_array(image)\n",
    "        else :\n",
    "            return np.array([])\n",
    "    except Exception as e:\n",
    "        print(f\"Error : {e}\")\n",
    "        return None"
   ]
  },
  {
   "cell_type": "markdown",
   "metadata": {
    "_uuid": "24d42b87fad54a9556f78357ce673cc5152468c1"
   },
   "source": [
    "Fetch images from directory"
   ]
  },
  {
   "cell_type": "code",
   "execution_count": 5,
   "metadata": {
    "_uuid": "bb8d4c343314028f52ae3c3a840478a834a16c95"
   },
   "outputs": [
    {
     "name": "stdout",
     "output_type": "stream",
     "text": [
      "[INFO] Loading images ...\n",
      "[INFO] Processing Potato___healthy ...\n",
      "[INFO] Processing Tomato__Target_Spot ...\n",
      "[INFO] Processing Tomato_Septoria_leaf_spot ...\n",
      "[INFO] Processing Tomato__Tomato_YellowLeaf__Curl_Virus ...\n",
      "[INFO] Processing Tomato_Spider_mites_Two_spotted_spider_mite ...\n",
      "[INFO] Processing Pepper__bell___healthy ...\n",
      "[INFO] Processing Tomato__Tomato_mosaic_virus ...\n",
      "[INFO] Processing Tomato_Bacterial_spot ...\n",
      "[INFO] Processing Tomato_Early_blight ...\n",
      "[INFO] Processing Tomato_healthy ...\n",
      "[INFO] Processing Tomato_Leaf_Mold ...\n",
      "[INFO] Processing Pepper__bell___Bacterial_spot ...\n",
      "[INFO] Processing Potato___Early_blight ...\n",
      "[INFO] Processing Potato___Late_blight ...\n",
      "[INFO] Processing Tomato_Late_blight ...\n",
      "[INFO] Image loading completed\n"
     ]
    }
   ],
   "source": [
    "image_list, label_list = [], []\n",
    "try:\n",
    "    print(\"[INFO] Loading images ...\")\n",
    "    root_dir = listdir(directory_root)\n",
    "    for directory in root_dir :\n",
    "        # remove .DS_Store from list\n",
    "        if directory == \".DS_Store\" :\n",
    "            root_dir.remove(directory)\n",
    "\n",
    "    for plant_folder in root_dir :\n",
    "        plant_disease_folder_list = listdir(f\"{directory_root}/{plant_folder}\")\n",
    "        \n",
    "        for disease_folder in plant_disease_folder_list :\n",
    "            # remove .DS_Store from list\n",
    "            if disease_folder == \".DS_Store\" :\n",
    "                plant_disease_folder_list.remove(disease_folder)\n",
    "\n",
    "        for plant_disease_folder in plant_disease_folder_list:\n",
    "            print(f\"[INFO] Processing {plant_disease_folder} ...\")\n",
    "            plant_disease_image_list = listdir(f\"{directory_root}/{plant_folder}/{plant_disease_folder}/\")\n",
    "                \n",
    "            for single_plant_disease_image in plant_disease_image_list :\n",
    "                if single_plant_disease_image == \".DS_Store\" :\n",
    "                    plant_disease_image_list.remove(single_plant_disease_image)\n",
    "\n",
    "            for image in plant_disease_image_list[:200]:\n",
    "                image_directory = f\"{directory_root}/{plant_folder}/{plant_disease_folder}/{image}\"\n",
    "                if image_directory.endswith(\".jpg\") == True or image_directory.endswith(\".JPG\") == True:\n",
    "                    image_list.append(convert_image_to_array(image_directory))\n",
    "                    label_list.append(plant_disease_folder)\n",
    "    print(\"[INFO] Image loading completed\")  \n",
    "except Exception as e:\n",
    "    print(f\"Error : {e}\")"
   ]
  },
  {
   "cell_type": "markdown",
   "metadata": {
    "_uuid": "35c4b76d33e0263523e479657580104532f81d6e"
   },
   "source": [
    "Get Size of Processed Image"
   ]
  },
  {
   "cell_type": "code",
   "execution_count": 6,
   "metadata": {
    "_uuid": "6ee1ad9c422f112ec2862699b5c0f68b8d658123"
   },
   "outputs": [],
   "source": [
    "image_size = len(image_list)"
   ]
  },
  {
   "cell_type": "code",
   "execution_count": 7,
   "metadata": {
    "_uuid": "904ff893fe14f5060dd9e7be2ccf96ec793597e5"
   },
   "outputs": [],
   "source": [
    "label_binarizer = LabelBinarizer()\n",
    "image_labels = label_binarizer.fit_transform(label_list)\n",
    "pickle.dump(label_binarizer,open('label_transform.pkl', 'wb'))\n",
    "n_classes = len(label_binarizer.classes_)"
   ]
  },
  {
   "cell_type": "markdown",
   "metadata": {
    "_uuid": "f860c29a1d714f06d25e6a0c5bca94739e5d24cc"
   },
   "source": [
    "Print the classes"
   ]
  },
  {
   "cell_type": "code",
   "execution_count": 8,
   "metadata": {
    "_uuid": "0f876397c40c3c8aa09772a92fd60481fc9ba268"
   },
   "outputs": [
    {
     "name": "stdout",
     "output_type": "stream",
     "text": [
      "['Pepper__bell___Bacterial_spot' 'Pepper__bell___healthy'\n",
      " 'Potato___Early_blight' 'Potato___Late_blight' 'Potato___healthy'\n",
      " 'Tomato_Bacterial_spot' 'Tomato_Early_blight' 'Tomato_Late_blight'\n",
      " 'Tomato_Leaf_Mold' 'Tomato_Septoria_leaf_spot'\n",
      " 'Tomato_Spider_mites_Two_spotted_spider_mite' 'Tomato__Target_Spot'\n",
      " 'Tomato__Tomato_YellowLeaf__Curl_Virus' 'Tomato__Tomato_mosaic_virus'\n",
      " 'Tomato_healthy']\n"
     ]
    }
   ],
   "source": [
    "print(label_binarizer.classes_)"
   ]
  },
  {
   "cell_type": "code",
   "execution_count": 9,
   "metadata": {
    "_uuid": "6cd9c977b3d164a5570a0c24fdd8624adb9d56b8"
   },
   "outputs": [],
   "source": [
    "np_image_list = np.array(image_list, dtype=np.float16) / 225.0"
   ]
  },
  {
   "cell_type": "code",
   "execution_count": 10,
   "metadata": {
    "_uuid": "9f4829560fdfa218cee18c1cfb2eb9452ef180e5"
   },
   "outputs": [
    {
     "name": "stdout",
     "output_type": "stream",
     "text": [
      "[INFO] Spliting data to train, test\n"
     ]
    }
   ],
   "source": [
    "print(\"[INFO] Spliting data to train, test\")\n",
    "x_train, x_test, y_train, y_test = train_test_split(np_image_list, image_labels, test_size=0.2, random_state = 42) "
   ]
  },
  {
   "cell_type": "code",
   "execution_count": 11,
   "metadata": {
    "_cell_guid": "79c7e3d0-c299-4dcb-8224-4455121ee9b0",
    "_uuid": "d629ff2d2480ee46fbb7e2d37f6b5fab8052498a"
   },
   "outputs": [],
   "source": [
    "model = Sequential()\n",
    "inputShape = (height, width, depth)\n",
    "chanDim = -1\n",
    "if K.image_data_format() == \"channels_first\":\n",
    "    inputShape = (depth, height, width)\n",
    "    chanDim = 1\n",
    "\n",
    "model.add(Conv2D(32, (3, 3), padding=\"same\", input_shape=inputShape))\n",
    "model.add(Activation(\"relu\"))\n",
    "model.add(BatchNormalization(axis=chanDim))\n",
    "\n",
    "model.add(MaxPooling2D(pool_size=(3, 3), padding=\"same\", strides=(2,2)))\n",
    "\n",
    "model.add(Conv2D(64, (3, 3), padding=\"same\"))\n",
    "model.add(Activation(\"relu\"))\n",
    "model.add(BatchNormalization(axis=chanDim))\n",
    "\n",
    "model.add(MaxPooling2D(pool_size=(3, 3), padding=\"same\", strides=(2,2)))\n",
    "\n",
    "model.add(Conv2D(128, (3, 3), padding=\"same\"))\n",
    "model.add(Activation(\"relu\"))\n",
    "model.add(BatchNormalization(axis=chanDim))\n",
    "\n",
    "model.add(MaxPooling2D(pool_size=(3, 3), padding=\"same\", strides=(2,2)))\n",
    "          \n",
    "model.add(Conv2D(256, (3, 3), padding=\"same\"))\n",
    "model.add(Activation(\"relu\"))\n",
    "model.add(BatchNormalization(axis=chanDim))\n",
    "          \n",
    "model.add(Conv2D(256, (3, 3), padding=\"same\"))\n",
    "model.add(Activation(\"relu\"))\n",
    "model.add(BatchNormalization(axis=chanDim))\n",
    "\n",
    "model.add(MaxPooling2D(pool_size=(3, 3), padding=\"same\", strides=(2,2)))\n",
    "\n",
    "model.add(Conv2D(512, (3, 3), padding=\"same\"))\n",
    "model.add(Activation(\"relu\"))\n",
    "model.add(BatchNormalization(axis=chanDim))\n",
    "          \n",
    "model.add(Conv2D(512, (3, 3), padding=\"same\"))\n",
    "model.add(Activation(\"relu\"))\n",
    "model.add(BatchNormalization(axis=chanDim))\n",
    "\n",
    "model.add(MaxPooling2D(pool_size=(3, 3), padding=\"same\", strides=(2,2)))\n",
    "\n",
    "model.add(AveragePooling2D(pool_size=(1,1), padding='valid'))\n",
    "\n",
    "model.add(Flatten())\n",
    "\n",
    "model.add(Dense(15))\n",
    "model.add(Activation(\"relu\"))\n",
    "\n",
    "model.add(Dense(n_classes))\n",
    "model.add(Activation(\"softmax\"))\n"
   ]
  },
  {
   "cell_type": "markdown",
   "metadata": {
    "_uuid": "53b13c03e4cea6dc2453a84e254b806ebeed2d99"
   },
   "source": [
    "Model Summary"
   ]
  },
  {
   "cell_type": "code",
   "execution_count": 12,
   "metadata": {
    "_uuid": "1e1523a834fbf872940171fbdefb3dcce2b5f31b"
   },
   "outputs": [
    {
     "name": "stdout",
     "output_type": "stream",
     "text": [
      "_________________________________________________________________\n",
      "Layer (type)                 Output Shape              Param #   \n",
      "=================================================================\n",
      "conv2d_1 (Conv2D)            (None, 32, 32, 32)        896       \n",
      "_________________________________________________________________\n",
      "activation_1 (Activation)    (None, 32, 32, 32)        0         \n",
      "_________________________________________________________________\n",
      "batch_normalization_1 (Batch (None, 32, 32, 32)        128       \n",
      "_________________________________________________________________\n",
      "max_pooling2d_1 (MaxPooling2 (None, 16, 16, 32)        0         \n",
      "_________________________________________________________________\n",
      "conv2d_2 (Conv2D)            (None, 16, 16, 64)        18496     \n",
      "_________________________________________________________________\n",
      "activation_2 (Activation)    (None, 16, 16, 64)        0         \n",
      "_________________________________________________________________\n",
      "batch_normalization_2 (Batch (None, 16, 16, 64)        256       \n",
      "_________________________________________________________________\n",
      "max_pooling2d_2 (MaxPooling2 (None, 8, 8, 64)          0         \n",
      "_________________________________________________________________\n",
      "conv2d_3 (Conv2D)            (None, 8, 8, 128)         73856     \n",
      "_________________________________________________________________\n",
      "activation_3 (Activation)    (None, 8, 8, 128)         0         \n",
      "_________________________________________________________________\n",
      "batch_normalization_3 (Batch (None, 8, 8, 128)         512       \n",
      "_________________________________________________________________\n",
      "max_pooling2d_3 (MaxPooling2 (None, 4, 4, 128)         0         \n",
      "_________________________________________________________________\n",
      "conv2d_4 (Conv2D)            (None, 4, 4, 256)         295168    \n",
      "_________________________________________________________________\n",
      "activation_4 (Activation)    (None, 4, 4, 256)         0         \n",
      "_________________________________________________________________\n",
      "batch_normalization_4 (Batch (None, 4, 4, 256)         1024      \n",
      "_________________________________________________________________\n",
      "conv2d_5 (Conv2D)            (None, 4, 4, 256)         590080    \n",
      "_________________________________________________________________\n",
      "activation_5 (Activation)    (None, 4, 4, 256)         0         \n",
      "_________________________________________________________________\n",
      "batch_normalization_5 (Batch (None, 4, 4, 256)         1024      \n",
      "_________________________________________________________________\n",
      "max_pooling2d_4 (MaxPooling2 (None, 2, 2, 256)         0         \n",
      "_________________________________________________________________\n",
      "conv2d_6 (Conv2D)            (None, 2, 2, 512)         1180160   \n",
      "_________________________________________________________________\n",
      "activation_6 (Activation)    (None, 2, 2, 512)         0         \n",
      "_________________________________________________________________\n",
      "batch_normalization_6 (Batch (None, 2, 2, 512)         2048      \n",
      "_________________________________________________________________\n",
      "conv2d_7 (Conv2D)            (None, 2, 2, 512)         2359808   \n",
      "_________________________________________________________________\n",
      "activation_7 (Activation)    (None, 2, 2, 512)         0         \n",
      "_________________________________________________________________\n",
      "batch_normalization_7 (Batch (None, 2, 2, 512)         2048      \n",
      "_________________________________________________________________\n",
      "max_pooling2d_5 (MaxPooling2 (None, 1, 1, 512)         0         \n",
      "_________________________________________________________________\n",
      "average_pooling2d_1 (Average (None, 1, 1, 512)         0         \n",
      "_________________________________________________________________\n",
      "flatten_1 (Flatten)          (None, 512)               0         \n",
      "_________________________________________________________________\n",
      "dense_1 (Dense)              (None, 15)                7695      \n",
      "_________________________________________________________________\n",
      "activation_8 (Activation)    (None, 15)                0         \n",
      "_________________________________________________________________\n",
      "dense_2 (Dense)              (None, 15)                240       \n",
      "_________________________________________________________________\n",
      "activation_9 (Activation)    (None, 15)                0         \n",
      "=================================================================\n",
      "Total params: 4,533,439\n",
      "Trainable params: 4,529,919\n",
      "Non-trainable params: 3,520\n",
      "_________________________________________________________________\n"
     ]
    }
   ],
   "source": [
    "model.summary()"
   ]
  },
  {
   "cell_type": "code",
   "execution_count": 13,
   "metadata": {
    "_uuid": "b21dffee32c325136b4ea23ac511049723f34a24"
   },
   "outputs": [
    {
     "name": "stdout",
     "output_type": "stream",
     "text": [
      "[INFO] training network...\n"
     ]
    }
   ],
   "source": [
    "opt = Adam(lr=INIT_LR, decay=INIT_LR / EPOCHS)\n",
    "# distribution\n",
    "model.compile(loss=\"binary_crossentropy\", optimizer=opt, metrics=[\"accuracy\"])\n",
    "# train the network\n",
    "print(\"[INFO] training network...\")"
   ]
  },
  {
   "cell_type": "code",
   "execution_count": 14,
   "metadata": {},
   "outputs": [
    {
     "name": "stdout",
     "output_type": "stream",
     "text": [
      "Train on 1652 samples, validate on 708 samples\n",
      "Epoch 1/50\n",
      "1652/1652 [==============================] - 9s 6ms/step - loss: 0.2372 - acc: 0.9328 - val_loss: 0.2268 - val_acc: 0.9309\n",
      "Epoch 2/50\n",
      "1652/1652 [==============================] - 2s 1ms/step - loss: 0.2153 - acc: 0.9345 - val_loss: 0.4044 - val_acc: 0.9100\n",
      "Epoch 3/50\n",
      "1652/1652 [==============================] - 2s 1ms/step - loss: 0.1993 - acc: 0.9357 - val_loss: 0.3114 - val_acc: 0.9174\n",
      "Epoch 4/50\n",
      "1652/1652 [==============================] - 2s 1ms/step - loss: 0.1802 - acc: 0.9407 - val_loss: 0.1929 - val_acc: 0.9362\n",
      "Epoch 5/50\n",
      "1652/1652 [==============================] - 2s 1ms/step - loss: 0.1628 - acc: 0.9448 - val_loss: 0.1675 - val_acc: 0.9456\n",
      "Epoch 6/50\n",
      "1652/1652 [==============================] - 2s 1ms/step - loss: 0.1498 - acc: 0.9493 - val_loss: 0.1829 - val_acc: 0.9393\n",
      "Epoch 7/50\n",
      "1652/1652 [==============================] - 3s 2ms/step - loss: 0.1461 - acc: 0.9470 - val_loss: 0.2288 - val_acc: 0.9354\n",
      "Epoch 8/50\n",
      "1652/1652 [==============================] - 2s 1ms/step - loss: 0.1299 - acc: 0.9526 - val_loss: 0.1726 - val_acc: 0.9411\n",
      "Epoch 9/50\n",
      "1652/1652 [==============================] - 2s 1ms/step - loss: 0.1248 - acc: 0.9515 - val_loss: 0.3484 - val_acc: 0.9205\n",
      "Epoch 10/50\n",
      "1652/1652 [==============================] - 2s 1ms/step - loss: 0.1179 - acc: 0.9547 - val_loss: 0.3253 - val_acc: 0.9240\n",
      "Epoch 11/50\n",
      "1652/1652 [==============================] - 2s 1ms/step - loss: 0.1044 - acc: 0.9583 - val_loss: 0.1425 - val_acc: 0.9515\n",
      "Epoch 12/50\n",
      "1652/1652 [==============================] - 2s 1ms/step - loss: 0.0974 - acc: 0.9599 - val_loss: 0.3530 - val_acc: 0.9111\n",
      "Epoch 13/50\n",
      "1652/1652 [==============================] - 2s 1ms/step - loss: 0.0998 - acc: 0.9598 - val_loss: 0.2367 - val_acc: 0.9363\n",
      "Epoch 14/50\n",
      "1652/1652 [==============================] - 2s 1ms/step - loss: 0.0898 - acc: 0.9634 - val_loss: 0.2270 - val_acc: 0.9328\n",
      "Epoch 15/50\n",
      "1652/1652 [==============================] - 2s 1ms/step - loss: 0.0910 - acc: 0.9630 - val_loss: 0.2784 - val_acc: 0.9289\n",
      "Epoch 16/50\n",
      "1652/1652 [==============================] - 2s 1ms/step - loss: 0.0777 - acc: 0.9679 - val_loss: 0.1446 - val_acc: 0.9548\n",
      "Epoch 17/50\n",
      "1652/1652 [==============================] - 2s 1ms/step - loss: 0.0761 - acc: 0.9693 - val_loss: 0.2453 - val_acc: 0.9304\n",
      "Epoch 18/50\n",
      "1652/1652 [==============================] - 2s 1ms/step - loss: 0.0677 - acc: 0.9727 - val_loss: 0.1262 - val_acc: 0.9526\n",
      "Epoch 19/50\n",
      "1652/1652 [==============================] - 2s 1ms/step - loss: 0.0580 - acc: 0.9781 - val_loss: 0.1670 - val_acc: 0.9465\n",
      "Epoch 20/50\n",
      "1652/1652 [==============================] - 2s 1ms/step - loss: 0.0541 - acc: 0.9796 - val_loss: 0.2068 - val_acc: 0.9402\n",
      "Epoch 21/50\n",
      "1652/1652 [==============================] - 2s 1ms/step - loss: 0.0576 - acc: 0.9781 - val_loss: 0.2131 - val_acc: 0.9425\n",
      "Epoch 22/50\n",
      "1652/1652 [==============================] - 2s 1ms/step - loss: 0.0433 - acc: 0.9843 - val_loss: 0.1510 - val_acc: 0.9546\n",
      "Epoch 23/50\n",
      "1652/1652 [==============================] - 2s 1ms/step - loss: 0.0571 - acc: 0.9778 - val_loss: 0.2307 - val_acc: 0.9370\n",
      "Epoch 24/50\n",
      "1652/1652 [==============================] - 2s 1ms/step - loss: 0.0577 - acc: 0.9798 - val_loss: 0.2085 - val_acc: 0.9396\n",
      "Epoch 25/50\n",
      "1652/1652 [==============================] - 2s 1ms/step - loss: 0.0380 - acc: 0.9867 - val_loss: 0.1322 - val_acc: 0.9557\n",
      "Epoch 26/50\n",
      "1652/1652 [==============================] - 2s 1ms/step - loss: 0.0336 - acc: 0.9889 - val_loss: 0.1471 - val_acc: 0.9548\n",
      "Epoch 27/50\n",
      "1652/1652 [==============================] - 2s 1ms/step - loss: 0.0274 - acc: 0.9903 - val_loss: 0.1813 - val_acc: 0.9506\n",
      "Epoch 28/50\n",
      "1652/1652 [==============================] - 2s 1ms/step - loss: 0.0537 - acc: 0.9815 - val_loss: 0.1445 - val_acc: 0.9562\n",
      "Epoch 29/50\n",
      "1652/1652 [==============================] - 2s 1ms/step - loss: 0.0467 - acc: 0.9837 - val_loss: 0.1398 - val_acc: 0.9568\n",
      "Epoch 30/50\n",
      "1652/1652 [==============================] - 2s 1ms/step - loss: 0.0308 - acc: 0.9895 - val_loss: 0.1133 - val_acc: 0.9671\n",
      "Epoch 31/50\n",
      "1652/1652 [==============================] - 2s 1ms/step - loss: 0.0248 - acc: 0.9913 - val_loss: 0.1295 - val_acc: 0.9605\n",
      "Epoch 32/50\n",
      "1652/1652 [==============================] - 2s 1ms/step - loss: 0.0185 - acc: 0.9936 - val_loss: 0.1411 - val_acc: 0.9614\n",
      "Epoch 33/50\n",
      "1652/1652 [==============================] - 2s 1ms/step - loss: 0.0252 - acc: 0.9920 - val_loss: 0.2159 - val_acc: 0.9460\n",
      "Epoch 34/50\n",
      "1652/1652 [==============================] - 2s 1ms/step - loss: 0.0279 - acc: 0.9907 - val_loss: 0.1543 - val_acc: 0.9576\n",
      "Epoch 35/50\n",
      "1652/1652 [==============================] - 2s 1ms/step - loss: 0.0172 - acc: 0.9951 - val_loss: 0.1417 - val_acc: 0.9625\n",
      "Epoch 36/50\n",
      "1652/1652 [==============================] - 2s 1ms/step - loss: 0.0214 - acc: 0.9941 - val_loss: 0.1232 - val_acc: 0.9641\n",
      "Epoch 37/50\n",
      "1652/1652 [==============================] - 2s 1ms/step - loss: 0.0163 - acc: 0.9953 - val_loss: 0.1930 - val_acc: 0.9545\n",
      "Epoch 38/50\n",
      "1652/1652 [==============================] - 2s 1ms/step - loss: 0.0167 - acc: 0.9947 - val_loss: 0.2088 - val_acc: 0.9516\n",
      "Epoch 39/50\n",
      "1652/1652 [==============================] - 2s 1ms/step - loss: 0.0176 - acc: 0.9940 - val_loss: 0.1170 - val_acc: 0.9673\n",
      "Epoch 40/50\n",
      "1652/1652 [==============================] - 2s 1ms/step - loss: 0.0210 - acc: 0.9934 - val_loss: 0.1721 - val_acc: 0.9580\n",
      "Epoch 41/50\n",
      "1652/1652 [==============================] - 2s 1ms/step - loss: 0.0125 - acc: 0.9958 - val_loss: 0.1489 - val_acc: 0.9642\n",
      "Epoch 42/50\n",
      "1652/1652 [==============================] - 2s 1ms/step - loss: 0.0104 - acc: 0.9968 - val_loss: 0.1435 - val_acc: 0.9651\n",
      "Epoch 43/50\n",
      "1652/1652 [==============================] - 2s 1ms/step - loss: 0.0143 - acc: 0.9952 - val_loss: 0.2675 - val_acc: 0.9449\n",
      "Epoch 44/50\n",
      "1652/1652 [==============================] - 2s 1ms/step - loss: 0.0121 - acc: 0.9967 - val_loss: 0.1992 - val_acc: 0.9500\n",
      "Epoch 45/50\n",
      "1652/1652 [==============================] - 2s 1ms/step - loss: 0.0127 - acc: 0.9958 - val_loss: 0.1396 - val_acc: 0.9649\n",
      "Epoch 46/50\n",
      "1652/1652 [==============================] - 2s 1ms/step - loss: 0.0191 - acc: 0.9940 - val_loss: 0.1897 - val_acc: 0.9573\n",
      "Epoch 47/50\n",
      "1652/1652 [==============================] - 2s 1ms/step - loss: 0.0166 - acc: 0.9953 - val_loss: 0.2395 - val_acc: 0.9525\n",
      "Epoch 48/50\n",
      "1652/1652 [==============================] - 2s 1ms/step - loss: 0.0188 - acc: 0.9946 - val_loss: 0.1430 - val_acc: 0.9620\n",
      "Epoch 49/50\n",
      "1652/1652 [==============================] - 2s 1ms/step - loss: 0.0218 - acc: 0.9934 - val_loss: 0.2401 - val_acc: 0.9418\n",
      "Epoch 50/50\n",
      "1652/1652 [==============================] - 2s 1ms/step - loss: 0.0119 - acc: 0.9964 - val_loss: 0.1734 - val_acc: 0.9568\n"
     ]
    }
   ],
   "source": [
    "history = model.fit(\n",
    "    x=x_train, \n",
    "    y=y_train, \n",
    "    batch_size=BS,\n",
    "    validation_split=0.3,\n",
    "    epochs=50, \n",
    "    verbose=1\n",
    "    )"
   ]
  },
  {
   "cell_type": "markdown",
   "metadata": {
    "_uuid": "1495fea08b37e4d4293f975ba30e6c1fc7a85ed9"
   },
   "source": [
    "Plot the train and val curve"
   ]
  },
  {
   "cell_type": "code",
   "execution_count": 15,
   "metadata": {
    "_uuid": "0af5e0f23657a4effc2d21cf8e840e81f42ec8e7"
   },
   "outputs": [
    {
     "data": {
      "image/png": "[encoded data removed]",
      "text/plain": [
       "<Figure size 432x288 with 1 Axes>"
      ]
     },
     "metadata": {
      "needs_background": "light"
     },
     "output_type": "display_data"
    },
    {
     "data": {
      "image/png": "[encoded data removed]",
      "text/plain": [
       "<Figure size 432x288 with 1 Axes>"
      ]
     },
     "metadata": {
      "needs_background": "light"
     },
     "output_type": "display_data"
    }
   ],
   "source": [
    "acc = history.history['acc']\n",
    "val_acc = history.history['val_acc']\n",
    "loss = history.history['loss']\n",
    "val_loss = history.history['val_loss']\n",
    "epochs = range(1, len(acc) + 1)\n",
    "#Train and validation accuracy\n",
    "plt.plot(epochs, acc, 'b', label='Training accurarcy')\n",
    "plt.plot(epochs, val_acc, 'r', label='Validation accurarcy')\n",
    "plt.title('Training and Validation accurarcy')\n",
    "plt.legend()\n",
    "\n",
    "plt.figure()\n",
    "#Train and validation loss\n",
    "plt.plot(epochs, loss, 'b', label='Training loss')\n",
    "plt.plot(epochs, val_loss, 'r', label='Validation loss')\n",
    "plt.title('Training and Validation loss')\n",
    "plt.legend()\n",
    "plt.show()"
   ]
  },
  {
   "cell_type": "markdown",
   "metadata": {
    "_uuid": "9ca1a4489bd624c69a13cd37c0c2306ac8de55c2"
   },
   "source": [
    "Model Accuracy"
   ]
  },
  {
   "cell_type": "code",
   "execution_count": 16,
   "metadata": {
    "_uuid": "bb44f3d0b7e2862bc7d1a032612ebfd48212c1fe"
   },
   "outputs": [
    {
     "name": "stdout",
     "output_type": "stream",
     "text": [
      "[INFO] Calculating model accuracy\n",
      "591/591 [==============================] - 0s 261us/step\n",
      "Test Accuracy: 95.83756634224893\n"
     ]
    }
   ],
   "source": [
    "print(\"[INFO] Calculating model accuracy\")\n",
    "scores = model.evaluate(x_test, y_test)\n",
    "print(f\"Test Accuracy: {scores[1]*100}\")"
   ]
  },
  {
   "cell_type": "markdown",
   "metadata": {
    "_uuid": "2a1f759db8afe933e62fe4cf8332cb303bb11be8"
   },
   "source": [
    "Save model using Pickle"
   ]
  },
  {
   "cell_type": "code",
   "execution_count": 17,
   "metadata": {
    "_uuid": "5cdf06adf492d79ed28fbdc36e02ad7489c7b33e"
   },
   "outputs": [
    {
     "name": "stdout",
     "output_type": "stream",
     "text": [
      "[INFO] Saving model...\n"
     ]
    }
   ],
   "source": [
    "# save the model to disk\n",
    "print(\"[INFO] Saving model...\")\n",
    "pickle.dump(model,open('cnn_model.pkl', 'wb'))"
   ]
  },
  {
   "cell_type": "code",
   "execution_count": null,
   "metadata": {},
   "outputs": [],
   "source": []
  }
 ],
 "metadata": {
  "kernelspec": {
   "display_name": "Python 3",
   "language": "python",
   "name": "python3"
  },
  "language_info": {
   "codemirror_mode": {
    "name": "ipython",
    "version": 3
   },
   "file_extension": ".py",
   "mimetype": "text/x-python",
   "name": "python",
   "nbconvert_exporter": "python",
   "pygments_lexer": "ipython3",
   "version": "3.6.6"
  }
 },
 "nbformat": 4,
 "nbformat_minor": 1
}
